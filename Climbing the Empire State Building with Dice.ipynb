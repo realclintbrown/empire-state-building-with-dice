{
 "cells": [
  {
   "cell_type": "markdown",
   "metadata": {},
   "source": [
    "Empire State Building Bet with Dice\n",
    "---------------------------------------------------\n",
    "A friend challenges you to a bet that you can't reach step 60 of the Empire State Building, where the number of steps you take is determined by rolling a single dice 100 times. The following program simulates this game 1000 times in order to help you decide to take the bet or not.\n",
    "\n",
    "The number of steps as determined as follows:\n",
    "\n",
    "Dice Roll     Steps\n",
    "--------------------------\n",
    "1-2             -1 step (You may not go below step 0)\n",
    "\n",
    "3-5             +1 step\n",
    "\n",
    "6               Roll the dice again and take that number of steps"
   ]
  },
  {
   "cell_type": "code",
   "execution_count": 91,
   "metadata": {},
   "outputs": [],
   "source": [
    "#import libraries for data manipulation,viz, and set random seed\n",
    "import numpy as np\n",
    "import matplotlib.pyplot as plt\n",
    "np.random.seed(123)"
   ]
  },
  {
   "cell_type": "code",
   "execution_count": 92,
   "metadata": {},
   "outputs": [],
   "source": [
    "# Simulate random walk 1000 times\n",
    "all_walks = []\n",
    "#Number of simulations\n",
    "for i in range(1000):\n",
    "    #Number of dice rolls\n",
    "    random_walk = [0]\n",
    "    for x in range(100) :\n",
    "        step = random_walk[-1]\n",
    "        dice = np.random.randint(1,7)\n",
    "        #Step determinant \n",
    "        if dice <= 2:\n",
    "            step = max(0, step - 1)\n",
    "        elif dice <= 5:\n",
    "            step = step + 1\n",
    "        else:\n",
    "            step = step + np.random.randint(1,7)\n",
    "        #Build list with each step\n",
    "        random_walk.append(step)\n",
    "    #Store each walk in a single list\n",
    "    all_walks.append(random_walk)"
   ]
  },
  {
   "cell_type": "code",
   "execution_count": 93,
   "metadata": {},
   "outputs": [],
   "source": [
    "#Transpose all walks data\n",
    "np_aw_t = np.transpose(np.array(all_walks))\n",
    "\n",
    "#Store final step from each walk in list\n",
    "ends = np_aw_t[-1]"
   ]
  },
  {
   "cell_type": "code",
   "execution_count": 94,
   "metadata": {},
   "outputs": [
    {
     "data": {
      "image/png": "[encoded data removed]",
      "text/plain": [
       "<Figure size 432x288 with 1 Axes>"
      ]
     },
     "metadata": {},
     "output_type": "display_data"
    }
   ],
   "source": [
    "#Plot and show results\n",
    "plt.hist(ends,bins=20,color=\"g\")\n",
    "plt.title(\"Empire State Building Steps with Dice Roll\")\n",
    "plt.xlabel(\"Final Step\")\n",
    "plt.ylabel(\"Iterations\")\n",
    "plt.xlim(0,max(ends))\n",
    "plt.show()"
   ]
  },
  {
   "cell_type": "code",
   "execution_count": 95,
   "metadata": {},
   "outputs": [
    {
     "name": "stdout",
     "output_type": "stream",
     "text": [
      "82.9% chance of reaching step 60 or higher!\n"
     ]
    }
   ],
   "source": [
    "#Calculate number of times 60 steps or greater was reached in 1000 simulations\n",
    "over60 = []\n",
    "for lastStep in ends:\n",
    "    if lastStep >= 60:\n",
    "        over60.append(lastStep)\n",
    "print(str(round((len(over60)/1000)*100,2))+\"% chance of reaching step 60 or higher!\")"
   ]
  },
  {
   "cell_type": "code",
   "execution_count": null,
   "metadata": {},
   "outputs": [],
   "source": []
  }
 ],
 "metadata": {
  "kernelspec": {
   "display_name": "Python 3",
   "language": "python",
   "name": "python3"
  },
  "language_info": {
   "codemirror_mode": {
    "name": "ipython",
    "version": 3
   },
   "file_extension": ".py",
   "mimetype": "text/x-python",
   "name": "python",
   "nbconvert_exporter": "python",
   "pygments_lexer": "ipython3",
   "version": "3.6.5"
  }
 },
 "nbformat": 4,
 "nbformat_minor": 2
}
